{
 "cells": [
  {
   "cell_type": "code",
   "execution_count": 1,
   "metadata": {},
   "outputs": [
    {
     "name": "stdout",
     "output_type": "stream",
     "text": [
      "tensor([1, 3, 5])\n",
      "tensor([ 3,  9, 15])\n",
      "tensor([2, 6])\n",
      "Tensor size: torch.Size([2])\n",
      "Tensor size: torch.Size([2])\n",
      "Tensor max: tensor(6)\n"
     ]
    }
   ],
   "source": [
    "\"\"\"\n",
    "A PyTorch Tensor is conceptually identical to a numpy array: a Tensor \n",
    "is an n-dimensional array, and PyTorch provides many functions for \n",
    "operating on these Tensors. Behind the scenes, Tensors can keep track \n",
    "of a computational graph and gradients, but they’re also useful as \n",
    "a generic tool for scientific computing.\n",
    "\"\"\"\n",
    "import torch\n",
    "\n",
    "# Create 1D tensor\n",
    "a = torch.tensor([1,3,5])\n",
    "print(a)\n",
    "\n",
    "# Scalar multiplication \n",
    "b = a * 3\n",
    "print(b)\n",
    "\n",
    "# Tensors multiplication\n",
    "a = torch.tensor([1,2])\n",
    "b = torch.tensor([2,3])\n",
    "c = a * b\n",
    "print(c)\n",
    "\n",
    "# Tensor shape\n",
    "print(\"Tensor size:\", c.size())\n",
    "print(\"Tensor size:\", c.shape)\n",
    "print(\"Tensor max:\", torch.max(c))"
   ]
  }
 ],
 "metadata": {
  "kernelspec": {
   "display_name": "Python 3",
   "language": "python",
   "name": "python3"
  },
  "language_info": {
   "codemirror_mode": {
    "name": "ipython",
    "version": 3
   },
   "file_extension": ".py",
   "mimetype": "text/x-python",
   "name": "python",
   "nbconvert_exporter": "python",
   "pygments_lexer": "ipython3",
   "version": "3.7.5"
  }
 },
 "nbformat": 4,
 "nbformat_minor": 2
}
